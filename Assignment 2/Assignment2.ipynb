{
 "cells": [
  {
   "cell_type": "markdown",
   "metadata": {},
   "source": [
    "<h1> <center>CLL 788 : Process Data Analytics </center> </h1>\n",
    "    <h2> <center> Assignment 2"
   ]
  },
  {
   "cell_type": "code",
   "execution_count": 243,
   "metadata": {},
   "outputs": [],
   "source": [
    "import numpy as np\n",
    "import pandas as pd\n",
    "import matplotlib.pyplot as plt\n",
    "from sklearn.utils import shuffle"
   ]
  },
  {
   "cell_type": "markdown",
   "metadata": {},
   "source": [
    "<h2>Visualising data"
   ]
  },
  {
   "cell_type": "code",
   "execution_count": 244,
   "metadata": {},
   "outputs": [
    {
     "data": {
      "image/png": "[encoded data removed]",
      "text/plain": [
       "<Figure size 432x432 with 1 Axes>"
      ]
     },
     "metadata": {
      "needs_background": "light"
     },
     "output_type": "display_data"
    }
   ],
   "source": [
    "from pandas import DataFrame \n",
    "\n",
    "df = pd.read_excel(\"q1train.xlsx\")\n",
    "ons = np.ones(df.shape[0])\n",
    "df['ONES'] = ons\n",
    "cols = df.columns\n",
    "newcols = [cols[-1],cols[0],cols[1],cols[2]]\n",
    "df = df[newcols]\n",
    "X = df[df.columns[0:-1]].values\n",
    "df_train = df\n",
    "\n",
    "X = df_train[df_train.columns[1:-1]]\n",
    "Y = df_train[df_train.columns[-1]]\n",
    "X = X.to_numpy()\n",
    "Y = Y.to_numpy()\n",
    "font = {'fontweight':600,'fontsize':22}   #for title\n",
    "fon  = {'fontweight':500,'fontsize':18}   #for labels\n",
    "fontl  = {'fontweight':500,'fontsize':12} #for text\n",
    "\n",
    "df = DataFrame(dict(x=X[:,0], y=X[:,1], label=Y))\n",
    "colors = {0:'red', 1:'green'}\n",
    "fig, ax = plt.subplots()\n",
    "grouped = df.groupby('label')\n",
    "for key, group in grouped:\n",
    "    if key == 0:\n",
    "        group.plot(ax=ax, kind='scatter', x='x', y='y', label='Fail', color=colors[key],s=60,ec='r',lw=0.5)\n",
    "    if key == 1:\n",
    "        group.plot(ax=ax, kind='scatter', x='x', y='y', label='Pass', color=colors[key],s=60,ec='g',lw=0.5)\n",
    "        \n",
    "plt.xlabel('Aptitude',fon)\n",
    "plt.ylabel('Verbal',fon)\n",
    "plt.title('Training Dataset',font)\n",
    "plt.tick_params(direction='in',which='both')\n",
    "plt.gca().set_aspect('equal','box')\n",
    "plt.grid()\n",
    "plt.legend()\n",
    "fig = plt.gcf()\n",
    "fig.set_size_inches(6,6)\n",
    "fig.savefig('1_Training.png',dpi=300,facecolor='w', edgecolor='k', bbox_inches='tight')\n",
    "plt.show()"
   ]
  },
  {
   "cell_type": "markdown",
   "metadata": {},
   "source": [
    "<h2>Modifying data label to apply $perceptron$ criteria"
   ]
  },
  {
   "cell_type": "code",
   "execution_count": 245,
   "metadata": {},
   "outputs": [],
   "source": [
    "def modifylabel(val):\n",
    "    if val == 0:\n",
    "        return -1\n",
    "    else:\n",
    "        return 1"
   ]
  },
  {
   "cell_type": "markdown",
   "metadata": {},
   "source": [
    "<h2>Scoring function"
   ]
  },
  {
   "cell_type": "code",
   "execution_count": 246,
   "metadata": {},
   "outputs": [],
   "source": [
    "def myscore(y,y_predicted):\n",
    "    sahi = 0\n",
    "    for i in range(len(y)):\n",
    "        if y[i] == y_predicted[i]:\n",
    "            sahi += 1\n",
    "    accuracy = sahi/len(y)\n",
    "#     print(accuracy)\n",
    "    return accuracy"
   ]
  },
  {
   "cell_type": "markdown",
   "metadata": {},
   "source": [
    "<h2>Activation Function"
   ]
  },
  {
   "cell_type": "code",
   "execution_count": 247,
   "metadata": {},
   "outputs": [],
   "source": [
    "def activation(w,X):\n",
    "    a = np.dot(w,X.T)\n",
    "    for i in range(len(a)):\n",
    "        if a[i] >= 0:\n",
    "            a[i] = 1\n",
    "        else:\n",
    "            a[i] = -1\n",
    "    return a"
   ]
  },
  {
   "cell_type": "markdown",
   "metadata": {},
   "source": [
    "<h2>Prediction Function</h2> (also converts to original labels i.e. 0 and 1)"
   ]
  },
  {
   "cell_type": "code",
   "execution_count": 248,
   "metadata": {},
   "outputs": [],
   "source": [
    "def prediction(w,X):\n",
    "    y_pr = activation(w,X)\n",
    "    return y_pr"
   ]
  },
  {
   "cell_type": "markdown",
   "metadata": {},
   "source": [
    "<h2> Preparing data for training"
   ]
  },
  {
   "cell_type": "code",
   "execution_count": 249,
   "metadata": {},
   "outputs": [
    {
     "name": "stdout",
     "output_type": "stream",
     "text": [
      "     Aptitude     Verbal  Label\n",
      "6   39.638339  54.071052      0\n",
      "46  89.776776  50.634788      1\n",
      "8   67.472028  89.776776      0\n",
      "20  51.647720  94.543368      0\n",
      "68  80.379574  66.846719      1\n",
      "     Aptitude     Verbal  Label\n",
      "46  89.776776  50.634788      1\n",
      "57  97.871599  62.173064      1\n",
      "61  99.372527  90.646714      1\n",
      "2   35.947409  60.282599     -1\n",
      "30  30.158822  44.768262     -1\n"
     ]
    }
   ],
   "source": [
    "df = pd.read_excel(\"q1train.xlsx\")\n",
    "X = df[df.columns[0:-1]].values\n",
    "# s = np.random.get_state()\n",
    "print(df.sample(5))\n",
    "df['Label']=df['Label'].apply(modifylabel)\n",
    "y = (df[df.columns[-1]].values).reshape(-1,1)\n",
    "w = np.array([0,0])\n",
    "# w = np.random.rand(2)\n",
    "w = np.array([0.88, 0.68])\n",
    "# s = np.random.set_state(s)\n",
    "print(df.sample(5))\n",
    "y_ = y"
   ]
  },
  {
   "cell_type": "markdown",
   "metadata": {},
   "source": [
    "<h2>Training starts"
   ]
  },
  {
   "cell_type": "code",
   "execution_count": 250,
   "metadata": {},
   "outputs": [
    {
     "name": "stdout",
     "output_type": "stream",
     "text": [
      "(array([ 0.17489314, -0.1294071 ]),)\n",
      "0.7142857142857143\n",
      "[ 1.  1. -1. -1.  1.  1. -1.  1.  1.  1. -1.  1.  1. -1.  1. -1.  1. -1.\n",
      "  1. -1. -1.  1.  1.  1. -1.  1. -1. -1. -1.  1. -1. -1.  1. -1.  1.  1.\n",
      "  1.  1.  1.  1.  1.  1.  1.  1.  1.  1.  1.  1.  1.  1. -1.  1.  1.  1.\n",
      "  1.  1.  1.  1. -1.  1.  1.  1.  1.  1.  1.  1.  1.  1.  1.  1.]\n",
      "(array([ 0.17489314, -0.1294071 ]), array([ 0.1745459 , -0.12971096]))\n",
      "0.7142857142857143\n",
      "[ 1.  1. -1. -1.  1.  1. -1.  1.  1.  1. -1.  1.  1. -1.  1. -1.  1. -1.\n",
      "  1. -1. -1.  1.  1.  1. -1.  1. -1. -1. -1.  1. -1. -1.  1. -1.  1.  1.\n",
      "  1.  1.  1.  1.  1.  1.  1.  1.  1.  1.  1.  1.  1.  1. -1.  1.  1.  1.\n",
      "  1.  1.  1.  1. -1.  1.  1.  1.  1.  1.  1.  1.  1.  1.  1.  1.]\n",
      "(array([ 0.17489314, -0.1294071 ]), array([ 0.1745459 , -0.12971096]), array([ 0.17419867, -0.13001483]))\n",
      "0.7142857142857143\n",
      "[ 1.  1. -1. -1.  1.  1. -1.  1.  1.  1. -1.  1.  1. -1.  1. -1.  1. -1.\n",
      "  1. -1. -1.  1.  1.  1. -1.  1. -1. -1. -1.  1. -1. -1.  1. -1.  1.  1.\n",
      "  1.  1.  1.  1.  1.  1.  1.  1.  1.  1.  1.  1.  1.  1. -1.  1.  1.  1.\n",
      "  1.  1.  1.  1. -1.  1.  1.  1.  1.  1.  1.  1.  1.  1.  1.  1.]\n",
      "(array([ 0.17489314, -0.1294071 ]), array([ 0.1745459 , -0.12971096]), array([ 0.17419867, -0.13001483]), array([ 0.17385143, -0.1303187 ]))\n",
      "0.7142857142857143\n",
      "[ 1.  1. -1. -1.  1.  1. -1.  1.  1.  1. -1.  1.  1. -1.  1. -1.  1. -1.\n",
      "  1. -1. -1.  1.  1.  1. -1.  1. -1. -1. -1.  1. -1. -1.  1. -1.  1.  1.\n",
      "  1.  1.  1.  1.  1.  1.  1.  1.  1.  1.  1.  1.  1.  1. -1.  1.  1.  1.\n",
      "  1.  1.  1.  1. -1.  1.  1.  1.  1.  1.  1.  1.  1.  1.  1.  1.]\n",
      "(array([ 0.17489314, -0.1294071 ]), array([ 0.1745459 , -0.12971096]), array([ 0.17419867, -0.13001483]), array([ 0.17385143, -0.1303187 ]), array([ 0.17350419, -0.13062257]))\n",
      "0.7285714285714285\n",
      "[ 1.  1. -1. -1.  1.  1. -1.  1. -1.  1. -1.  1.  1. -1.  1. -1.  1. -1.\n",
      "  1. -1. -1.  1.  1.  1. -1.  1. -1. -1. -1.  1. -1. -1.  1. -1.  1.  1.\n",
      "  1.  1.  1.  1.  1.  1.  1.  1.  1.  1.  1.  1.  1.  1. -1.  1.  1.  1.\n",
      "  1.  1.  1.  1. -1.  1.  1.  1.  1.  1.  1.  1.  1.  1.  1.  1.]\n",
      "(array([ 0.17489314, -0.1294071 ]), array([ 0.1745459 , -0.12971096]), array([ 0.17419867, -0.13001483]), array([ 0.17385143, -0.1303187 ]), array([ 0.17350419, -0.13062257]), array([ 0.17315696, -0.13092643]))\n",
      "0.7285714285714285\n",
      "[ 1.  1. -1. -1.  1.  1. -1.  1. -1.  1. -1.  1.  1. -1.  1. -1.  1. -1.\n",
      "  1. -1. -1.  1.  1.  1. -1.  1. -1. -1. -1.  1. -1. -1.  1. -1.  1.  1.\n",
      "  1.  1.  1.  1.  1.  1.  1.  1.  1.  1.  1.  1.  1.  1. -1.  1.  1.  1.\n",
      "  1.  1.  1.  1. -1.  1.  1.  1.  1.  1.  1.  1.  1.  1.  1.  1.]\n",
      "(array([ 0.17489314, -0.1294071 ]), array([ 0.1745459 , -0.12971096]), array([ 0.17419867, -0.13001483]), array([ 0.17385143, -0.1303187 ]), array([ 0.17350419, -0.13062257]), array([ 0.17315696, -0.13092643]), array([ 0.17280972, -0.1312303 ]))\n",
      "0.7285714285714285\n",
      "[ 1.  1. -1. -1.  1.  1. -1.  1. -1.  1. -1.  1.  1. -1.  1. -1.  1. -1.\n",
      "  1. -1. -1.  1.  1.  1. -1.  1. -1. -1. -1.  1. -1. -1.  1. -1.  1.  1.\n",
      "  1.  1.  1.  1.  1.  1.  1.  1.  1.  1.  1.  1.  1.  1. -1.  1.  1.  1.\n",
      "  1.  1.  1.  1. -1.  1.  1.  1.  1.  1.  1.  1.  1.  1.  1.  1.]\n",
      "(array([ 0.17489314, -0.1294071 ]), array([ 0.1745459 , -0.12971096]), array([ 0.17419867, -0.13001483]), array([ 0.17385143, -0.1303187 ]), array([ 0.17350419, -0.13062257]), array([ 0.17315696, -0.13092643]), array([ 0.17280972, -0.1312303 ]), array([ 0.17246248, -0.13153417]))\n",
      "0.7142857142857143\n",
      "[ 1.  1. -1. -1.  1.  1. -1.  1. -1.  1. -1.  1.  1. -1.  1. -1.  1. -1.\n",
      "  1. -1. -1.  1.  1.  1. -1.  1. -1. -1. -1.  1. -1. -1.  1. -1. -1.  1.\n",
      "  1.  1.  1.  1.  1.  1.  1.  1.  1.  1.  1.  1.  1.  1. -1.  1.  1.  1.\n",
      "  1.  1.  1.  1. -1.  1.  1.  1.  1.  1.  1.  1.  1.  1.  1.  1.]\n",
      "(array([ 0.17489314, -0.1294071 ]), array([ 0.1745459 , -0.12971096]), array([ 0.17419867, -0.13001483]), array([ 0.17385143, -0.1303187 ]), array([ 0.17350419, -0.13062257]), array([ 0.17315696, -0.13092643]), array([ 0.17280972, -0.1312303 ]), array([ 0.17246248, -0.13153417]), array([ 0.17211525, -0.13183803]))\n",
      "0.7142857142857143\n",
      "[ 1.  1. -1. -1.  1.  1. -1.  1. -1.  1. -1.  1.  1. -1.  1. -1.  1. -1.\n",
      "  1. -1. -1.  1.  1.  1. -1.  1. -1. -1. -1.  1. -1. -1.  1. -1. -1.  1.\n",
      "  1.  1.  1.  1.  1.  1.  1.  1.  1.  1.  1.  1.  1.  1. -1.  1.  1.  1.\n",
      "  1.  1.  1.  1. -1.  1.  1.  1.  1.  1.  1.  1.  1.  1.  1.  1.]\n",
      "(array([ 0.17489314, -0.1294071 ]), array([ 0.1745459 , -0.12971096]), array([ 0.17419867, -0.13001483]), array([ 0.17385143, -0.1303187 ]), array([ 0.17350419, -0.13062257]), array([ 0.17315696, -0.13092643]), array([ 0.17280972, -0.1312303 ]), array([ 0.17246248, -0.13153417]), array([ 0.17211525, -0.13183803]), array([ 0.17176801, -0.1321419 ]))\n",
      "0.7142857142857143\n",
      "[ 1.  1. -1. -1.  1.  1. -1.  1. -1.  1. -1.  1.  1. -1.  1. -1.  1. -1.\n",
      "  1. -1. -1.  1.  1.  1. -1.  1. -1. -1. -1.  1. -1. -1.  1. -1. -1.  1.\n",
      "  1.  1.  1.  1.  1.  1.  1.  1.  1.  1.  1.  1.  1.  1. -1.  1.  1.  1.\n",
      "  1.  1.  1.  1. -1.  1.  1.  1.  1.  1.  1.  1.  1.  1.  1.  1.]\n",
      "(array([ 0.17489314, -0.1294071 ]), array([ 0.1745459 , -0.12971096]), array([ 0.17419867, -0.13001483]), array([ 0.17385143, -0.1303187 ]), array([ 0.17350419, -0.13062257]), array([ 0.17315696, -0.13092643]), array([ 0.17280972, -0.1312303 ]), array([ 0.17246248, -0.13153417]), array([ 0.17211525, -0.13183803]), array([ 0.17176801, -0.1321419 ]), array([ 0.17142077, -0.13244577]))\n",
      "0.7142857142857143\n",
      "[ 1.  1. -1. -1.  1.  1. -1.  1. -1.  1. -1.  1.  1. -1.  1. -1.  1. -1.\n",
      "  1. -1. -1.  1.  1.  1. -1.  1. -1. -1. -1.  1. -1. -1.  1. -1. -1.  1.\n",
      "  1.  1.  1.  1.  1.  1.  1.  1.  1.  1.  1.  1.  1.  1. -1.  1.  1.  1.\n",
      "  1.  1.  1.  1. -1.  1.  1.  1.  1.  1.  1.  1.  1.  1.  1.  1.]\n",
      "(array([ 0.17489314, -0.1294071 ]), array([ 0.1745459 , -0.12971096]), array([ 0.17419867, -0.13001483]), array([ 0.17385143, -0.1303187 ]), array([ 0.17350419, -0.13062257]), array([ 0.17315696, -0.13092643]), array([ 0.17280972, -0.1312303 ]), array([ 0.17246248, -0.13153417]), array([ 0.17211525, -0.13183803]), array([ 0.17176801, -0.1321419 ]), array([ 0.17142077, -0.13244577]), array([ 0.17107354, -0.13274964]))\n",
      "0.7142857142857143\n",
      "[ 1.  1. -1. -1.  1.  1. -1.  1. -1.  1. -1.  1.  1. -1.  1. -1.  1. -1.\n",
      "  1. -1. -1.  1.  1.  1. -1.  1. -1. -1. -1.  1. -1. -1.  1. -1. -1.  1.\n",
      "  1.  1.  1.  1.  1.  1.  1.  1.  1.  1.  1.  1.  1.  1. -1.  1.  1.  1.\n",
      "  1.  1.  1.  1. -1.  1.  1.  1.  1.  1.  1.  1.  1.  1.  1.  1.]\n",
      "(array([ 0.17489314, -0.1294071 ]), array([ 0.1745459 , -0.12971096]), array([ 0.17419867, -0.13001483]), array([ 0.17385143, -0.1303187 ]), array([ 0.17350419, -0.13062257]), array([ 0.17315696, -0.13092643]), array([ 0.17280972, -0.1312303 ]), array([ 0.17246248, -0.13153417]), array([ 0.17211525, -0.13183803]), array([ 0.17176801, -0.1321419 ]), array([ 0.17142077, -0.13244577]), array([ 0.17107354, -0.13274964]), array([ 0.06080281, -0.04672883]))\n",
      "0.7142857142857143\n",
      "[ 1.  1. -1. -1.  1.  1. -1.  1. -1.  1. -1.  1.  1. -1.  1. -1.  1. -1.\n",
      "  1. -1. -1.  1.  1.  1. -1.  1. -1. -1. -1.  1. -1. -1.  1. -1. -1.  1.\n",
      "  1.  1.  1.  1.  1.  1.  1.  1.  1.  1.  1.  1.  1.  1. -1.  1.  1.  1.\n",
      "  1.  1.  1.  1. -1.  1.  1.  1.  1.  1.  1.  1.  1.  1.  1.  1.]\n"
     ]
    }
   ],
   "source": [
    "#Learning rate\n",
    "alpha = 0.00001\n",
    "iter=0\n",
    "accu = []\n",
    "weights = ()\n",
    "y = df['Label']\n",
    "while iter<100:\n",
    "    temp = np.zeros(2)\n",
    "    a = activation(w,X)\n",
    "    for i in range(len(y)):\n",
    "        a = prediction(w,X)\n",
    "        if df.Label[i]!=a[i]:\n",
    "    \n",
    "            temp[0] = w[0] + alpha*(df.Label[i])*X[i,0]\n",
    "            temp[1] = w[1] + alpha*(df.Label[i])*X[i,1]\n",
    "            w = temp\n",
    "            y_pred = prediction(w,X)\n",
    "            accu.append(myscore(y,y_pred))\n",
    "        if myscore(y,y_pred) > 0.7:\n",
    "            w_ = w\n",
    "            weights = weights + (w_,)\n",
    "            y_p_per=prediction(w_,X)\n",
    "            print(weights)\n",
    "            print(myscore(y,y_pred))\n",
    "            print(y_p_per)\n",
    "            yy = y_p_per\n",
    "            for i in range(len(yy)):\n",
    "                if yy[i] == -1:\n",
    "                    yy[i] = 0\n",
    "                else:\n",
    "                    pass\n",
    "            break\n",
    "    iter+=1"
   ]
  },
  {
   "cell_type": "markdown",
   "metadata": {},
   "source": [
    "<h2>Visualizing predictions on training dataset"
   ]
  },
  {
   "cell_type": "code",
   "execution_count": 259,
   "metadata": {},
   "outputs": [
    {
     "data": {
      "image/png": "[encoded data removed]",
      "text/plain": [
       "<Figure size 432x432 with 1 Axes>"
      ]
     },
     "metadata": {
      "needs_background": "light"
     },
     "output_type": "display_data"
    }
   ],
   "source": [
    "df = DataFrame(dict(x=X[:,0], y=X[:,1], label=yy))\n",
    "colors = {0:'red', 1:'green'}\n",
    "fig, ax = plt.subplots()\n",
    "grouped = df.groupby('label')\n",
    "for key, group in grouped:\n",
    "    if key == 0:\n",
    "        group.plot(ax=ax, kind='scatter', x='x', y='y', label='Fail', color=colors[key],s=50,ec='r',lw=2)\n",
    "    if key == 1:\n",
    "        group.plot(ax=ax, kind='scatter', x='x', y='y', label='Pass', color=colors[key],s=50,ec='g',lw=2)\n",
    "        \n",
    "plt.xlabel('Aptitude',fon)\n",
    "plt.ylabel('Verbal',fon)\n",
    "plt.title('Predictions on Training Dataset',font)\n",
    "plt.tick_params(direction='in',which='both')\n",
    "plt.gca().set_aspect('equal','box')\n",
    "plt.grid()\n",
    "plt.legend()\n",
    "fig = plt.gcf()\n",
    "fig.set_size_inches(6,6)\n",
    "plt.text(30,100,\"Accuracy = 71.4%\",fontl)\n",
    "fig.savefig('1_Predict_Train.png',dpi=300,facecolor='w', edgecolor='k', bbox_inches='tight')\n",
    "plt.show()"
   ]
  },
  {
   "cell_type": "markdown",
   "metadata": {},
   "source": [
    "<h3>For q1test.xlsx"
   ]
  },
  {
   "cell_type": "code",
   "execution_count": 261,
   "metadata": {},
   "outputs": [
    {
     "data": {
      "image/png": "[encoded data removed]",
      "text/plain": [
       "<Figure size 432x432 with 1 Axes>"
      ]
     },
     "metadata": {
      "needs_background": "light"
     },
     "output_type": "display_data"
    }
   ],
   "source": [
    "from matplotlib import pyplot as plt\n",
    "from pandas import DataFrame \n",
    "df_test = pd.read_excel('q1test.xlsx')\n",
    "\n",
    "X = df_test[df_test.columns[:]]\n",
    "X['ones'] = np.ones(len(X))\n",
    "cols = X.columns.to_list()\n",
    "cols = cols[-1:] + cols[:-1]\n",
    "X = df_test\n",
    "X = X.to_numpy()\n",
    "Y = prediction(w_,X)\n",
    "for i in range(len(Y)):\n",
    "    if Y[i] == -1:\n",
    "        Y[i] = 0\n",
    "Y = np.rint(Y)\n",
    "Y = Y.astype(int)\n",
    "\n",
    "\n",
    "font = {'fontweight':600,'fontsize':22}   #for title\n",
    "fon  = {'fontweight':500,'fontsize':18}   #for labels\n",
    "fontl  = {'fontweight':500,'fontsize':12} #for text\n",
    "\n",
    "df = DataFrame(dict(x=X[:,0], y=X[:,1], label=Y))\n",
    "colors = {0:'red', 1:'green'}\n",
    "fig, ax = plt.subplots()\n",
    "grouped = df.groupby('label')\n",
    "for key, group in grouped:\n",
    "    if key == 0:\n",
    "        group.plot(ax=ax, kind='scatter', x='x', y='y', label='Fail', color=colors[key],s=40,ec='r',lw=2)\n",
    "    if key == 1:\n",
    "        group.plot(ax=ax, kind='scatter', x='x', y='y', label='Pass', color=colors[key],s=40,ec='g',lw=2)\n",
    "        \n",
    "plt.xlabel('Aptitude',fon)\n",
    "plt.ylabel('Verbal',fon)\n",
    "plt.title('Predictions on Test Dataset',font)\n",
    "plt.tick_params(direction='in',which='both')\n",
    "# plt.gca().set_aspect('equal','box')\n",
    "plt.grid()\n",
    "plt.legend()\n",
    "fig = plt.gcf()\n",
    "fig.set_size_inches(6,6)\n",
    "fig.savefig('1_Predict_Test.png',dpi=300,facecolor='w', edgecolor='k', bbox_inches='tight')\n",
    "plt.show()"
   ]
  },
  {
   "cell_type": "markdown",
   "metadata": {},
   "source": [
    "<h2><center>Question 2</center></h2>\n",
    "Letclass1havethe5samplesc1=[(1,2),(2,3),(3,3)(4,5),(5,5)]andletclass2 have 6 samples: c2 = [(1,0),(2,1),(3,1),(3,2),(5,3),(6,5)]. <br>Using discriminant analysis find projections y1 & y2 respectively for c1 & c2. <br>\n",
    "<p><p>Note : This question has to be done manually.\n"
   ]
  },
  {
   "cell_type": "code",
   "execution_count": 331,
   "metadata": {},
   "outputs": [
    {
     "data": {
      "image/png": "[encoded data removed]",
      "text/plain": [
       "<Figure size 432x432 with 1 Axes>"
      ]
     },
     "metadata": {
      "needs_background": "light"
     },
     "output_type": "display_data"
    }
   ],
   "source": [
    "x1 = np.array([1,2,3,4,5])\n",
    "y1 = np.array([2,3,3,5,5])\n",
    "\n",
    "x2 = np.array([1,2,3,3,5,6])\n",
    "y2 = np.array([0,1,1,2,3,4])\n",
    "\n",
    "plt.scatter(x1,y1,s=40,color='blue',alpha=0.3,label='Class 1')\n",
    "m_x1 = x1.sum(axis=0)/len(x1)\n",
    "m_y1 = y1.sum(axis=0)/len(y1)\n",
    "plt.scatter(m_x1,m_y1,s=100,color='blue',ec='red',label='$Mean_{Class 1}$')\n",
    "plt.text(m_x1,m_y1+0.3,('(%0.1f,%0.1f)'%(m_x1,m_y1)),color='blue')\n",
    "\n",
    "plt.scatter(x2,y2,s=40,color='red',alpha=0.3,label='Class 2')\n",
    "m_x2 = x2.sum(axis=0)/len(x2)\n",
    "m_y2 = y2.sum(axis=0)/len(y2)\n",
    "plt.scatter(m_x2,m_y2,s=100,color='red',ec='blue',label='$Mean_{Class 2}$')\n",
    "plt.text(m_x2,m_y2-0.3,('(%0.1f,%0.1f)'%(m_x2,m_y2)),color='red')\n",
    "plt.legend()\n",
    "plt.xlabel('X',fontl)\n",
    "plt.ylabel('Y',fontl)\n",
    "plt.title('Visualizing the data',font)\n",
    "fig = plt.gcf()\n",
    "fig.set_size_inches(6,6)\n",
    "fig.savefig('2_visualize.png',dpi=300,facecolor='w', edgecolor='k', bbox_inches='tight')\n",
    "plt.show()\n"
   ]
  },
  {
   "cell_type": "code",
   "execution_count": 307,
   "metadata": {},
   "outputs": [],
   "source": [
    "D1 = np.array([[x1],[y1]])\n",
    "D2 = np.array([[x2],[y2]])"
   ]
  },
  {
   "cell_type": "code",
   "execution_count": 319,
   "metadata": {},
   "outputs": [],
   "source": [
    "r1_1 = D1[0]-m_x1\n",
    "r2_1 = D1[1]-m_y1 \n",
    "a1 = np.array([r1_1,r2_1])\n",
    "\n",
    "r1_2 = D2[0]-m_x2\n",
    "r2_2 = D2[1]-m_y2 \n",
    "a2 = np.array([[r1_2],[r2_2]])\n",
    "\n"
   ]
  },
  {
   "cell_type": "code",
   "execution_count": 321,
   "metadata": {},
   "outputs": [
    {
     "data": {
      "text/plain": [
       "array([[[-2. , -1. ,  0. ,  1. ,  2. ]],\n",
       "\n",
       "       [[-1.6, -0.6, -0.6,  1.4,  1.4]]])"
      ]
     },
     "execution_count": 321,
     "metadata": {},
     "output_type": "execute_result"
    }
   ],
   "source": [
    "a1"
   ]
  },
  {
   "cell_type": "code",
   "execution_count": 332,
   "metadata": {},
   "outputs": [
    {
     "data": {
      "text/plain": [
       "array([[[[-2.33333333, -1.33333333, -0.33333333, -0.33333333,\n",
       "           1.66666667,  2.66666667]]],\n",
       "\n",
       "\n",
       "       [[[-1.83333333, -0.83333333, -0.83333333,  0.16666667,\n",
       "           1.16666667,  2.16666667]]]])"
      ]
     },
     "execution_count": 332,
     "metadata": {},
     "output_type": "execute_result"
    }
   ],
   "source": [
    "a2"
   ]
  },
  {
   "cell_type": "code",
   "execution_count": null,
   "metadata": {},
   "outputs": [],
   "source": []
  }
 ],
 "metadata": {
  "kernelspec": {
   "display_name": "Python 3",
   "language": "python",
   "name": "python3"
  },
  "language_info": {
   "codemirror_mode": {
    "name": "ipython",
    "version": 3
   },
   "file_extension": ".py",
   "mimetype": "text/x-python",
   "name": "python",
   "nbconvert_exporter": "python",
   "pygments_lexer": "ipython3",
   "version": "3.7.3"
  }
 },
 "nbformat": 4,
 "nbformat_minor": 4
}
