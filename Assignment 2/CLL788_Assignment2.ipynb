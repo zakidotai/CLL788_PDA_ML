{
 "cells": [
  {
   "cell_type": "code",
   "execution_count": 1,
   "metadata": {},
   "outputs": [],
   "source": [
    "import numpy as np\n",
    "import pandas as pd\n",
    "import matplotlib.pyplot as plt\n",
    "from sklearn.metrics import r2_score, mean_squared_error\n",
    "import os"
   ]
  },
  {
   "cell_type": "code",
   "execution_count": 291,
   "metadata": {},
   "outputs": [],
   "source": [
    "def modifylabel(val):\n",
    "    if val == 0:\n",
    "        return -1\n",
    "    else:\n",
    "        return 1\n",
    "def remodifylabel(val):\n",
    "    if val == -1:\n",
    "        return 0\n",
    "    else:\n",
    "        return 1\n",
    "def activation(w,X):\n",
    "    a = np.dot(w,X.T)\n",
    "    for i in range(len(a)):\n",
    "        if a[i] >= 0:\n",
    "            a[i] = 1\n",
    "        else:\n",
    "            a[i] = -1\n",
    "    return a\n",
    "def prediction(w,X):\n",
    "    y_pr = activation(w,X)\n",
    "#     for i in range(len(y_pr)):\n",
    "#         if y_pr[i] == -1:\n",
    "#             y_pr[i] = 0\n",
    "#         else: \n",
    "#             y_pr[i] = 1\n",
    "    return y_pr\n",
    "def myscore(y,y_predicted):\n",
    "    sahi = 0\n",
    "    for i in range(len(y)):\n",
    "        if y[i] == y_predicted[i]:\n",
    "            sahi += 1\n",
    "    accuracy = sahi/len(y)\n",
    "#     print(accuracy)\n",
    "    return accuracy"
   ]
  },
  {
   "cell_type": "code",
   "execution_count": 311,
   "metadata": {},
   "outputs": [
    {
     "name": "stdout",
     "output_type": "stream",
     "text": [
      "    Aptitude     Verbal  Label\n",
      "0  34.723660  30.386711      0\n",
      "1  30.386711  35.947409      0\n",
      "2  35.947409  60.282599      0\n",
      "3  45.183277  61.206665      0\n",
      "4  95.961555  75.113658      0\n",
      "    Aptitude     Verbal  Label\n",
      "0  34.723660  30.386711     -1\n",
      "1  30.386711  35.947409     -1\n",
      "2  35.947409  60.282599     -1\n",
      "3  45.183277  61.206665     -1\n",
      "4  95.961555  75.113658     -1\n"
     ]
    }
   ],
   "source": [
    "df = pd.read_excel(\"q1train.xlsx\")\n",
    "# ons = np.ones(df.shape[0])\n",
    "# df['ONES'] = ons\n",
    "# cols = df.columns\n",
    "# newcols = [cols[-1],cols[0],cols[1],cols[2]]\n",
    "# df = df[newcols]\n",
    "X = df[df.columns[0:-1]].values\n",
    "print(df.head())\n",
    "df['Label']=df['Label'].apply(modifylabel)\n",
    "# print(df['Label'])\n",
    "# w=np.random.rand(3)\n",
    "# w = np.random.rand(3)\n",
    "# w = np.array([-6.3,0.09403203,0.09583417])\n",
    "y = (df[df.columns[-1]].values).reshape(-1,1)\n",
    "# w = np.array([4.38272086,-1.55292491])\n",
    "w = np.array([0,0])\n",
    "# np.dot(w,X.T)\n",
    "print(df.head())\n",
    "y_ = y"
   ]
  },
  {
   "cell_type": "code",
   "execution_count": 313,
   "metadata": {},
   "outputs": [],
   "source": [
    "alpha = 0.001\n",
    "iter=0\n",
    "# print(w)\n",
    "accu = []\n",
    "weights = np.random.rand(2)\n",
    "y = df['Label']\n",
    "while iter<10:\n",
    "    temp = np.zeros(2)\n",
    "    a = activation(w,X)\n",
    "    for i in range(len(y)):\n",
    "        a = activation(w,X)\n",
    "        if df.Label[i]!=a[i]:\n",
    "#             print(\"....\")\n",
    "#         print(a)\n",
    "#             temp[0] = w[0] + alpha*(df.Label[i])*X[i,0]\n",
    "            temp[0] = w[0] + alpha*(df.Label[i])*X[i,0]\n",
    "            temp[1] = w[1] + alpha*(df.Label[i])*X[i,1]\n",
    "            w = temp\n",
    "            y_pred = prediction(w,X)\n",
    "            accu.append(myscore(y,y_pred))\n",
    "        if myscore(y,y_pred) > 0.6:\n",
    "            w_ = w\n",
    "            weights = weights + (w_,)\n",
    "            y_p_per=prediction(w_,X)\n",
    "            print(weights)\n",
    "            print(myscore(y,y_pred))\n",
    "            print(y_p_per)\n",
    "            break\n",
    "    iter+=1\n",
    "# print(w)\n",
    "# y_p_per=activation(w,X)\n",
    "# print(y_p_per)\n",
    "# df['Label']=df['Label'].apply(remodifylabel)\n",
    "# print(df['Label'])\n"
   ]
  },
  {
   "cell_type": "code",
   "execution_count": 299,
   "metadata": {},
   "outputs": [
    {
     "data": {
      "text/plain": [
       "(array([ 1.260838  , -0.95767035]),)"
      ]
     },
     "execution_count": 299,
     "metadata": {},
     "output_type": "execute_result"
    }
   ],
   "source": [
    "weights"
   ]
  },
  {
   "cell_type": "code",
   "execution_count": 300,
   "metadata": {},
   "outputs": [
    {
     "name": "stdout",
     "output_type": "stream",
     "text": [
      "[ 1.260838   -0.95767035]\n",
      "0.7285714285714285\n",
      "329\n"
     ]
    }
   ],
   "source": [
    "print(w_)\n",
    "print(max(accu))\n",
    "print(accu.index(max(accu)))"
   ]
  },
  {
   "cell_type": "code",
   "execution_count": null,
   "metadata": {},
   "outputs": [],
   "source": []
  },
  {
   "cell_type": "code",
   "execution_count": 302,
   "metadata": {},
   "outputs": [
    {
     "data": {
      "image/png": "[encoded data removed]",
      "text/plain": [
       "<Figure size 432x288 with 1 Axes>"
      ]
     },
     "metadata": {
      "needs_background": "light"
     },
     "output_type": "display_data"
    }
   ],
   "source": [
    "# Plotting results\n",
    "plt.scatter(range(70),y_p_per,label='Predicted result', alpha=0.9, c='b',s=80)\n",
    "plt.scatter(range(70),df['Label'],label='Actual result',alpha=0.4,c='r',s=80)\n",
    "plt.title('Comparison of predicted and actual results',{'fontweight':500,'fontsize':12})\n",
    "plt.ylabel('Results(1=selected, 0= Not selected)',{'fontweight':500,'fontsize':10})\n",
    "plt.xlabel(\"Index\",{'fontweight':500,'fontsize':10})\n",
    "plt.legend()\n",
    "plt.grid()\n",
    "plt.savefig('Q2-Predicted results vs actual results of training data.png')"
   ]
  },
  {
   "cell_type": "code",
   "execution_count": 303,
   "metadata": {},
   "outputs": [
    {
     "name": "stdout",
     "output_type": "stream",
     "text": [
      "Percentage accuracy of results is  72.85714285714285 %\n"
     ]
    }
   ],
   "source": [
    "#Checking Accuracy of algorithm by comparing predicted values and actual values of label given\n",
    "correct = 0\n",
    "for i in range(len(y_)):\n",
    "    if y[i] == y_p_per[i]:\n",
    "        correct += 1\n",
    "accuracy = correct/len(y_)\n",
    "print(\"Percentage accuracy of results is \",accuracy*100,'%')\n"
   ]
  },
  {
   "cell_type": "code",
   "execution_count": 304,
   "metadata": {},
   "outputs": [
    {
     "data": {
      "text/plain": [
       "0.7285714285714285"
      ]
     },
     "execution_count": 304,
     "metadata": {},
     "output_type": "execute_result"
    }
   ],
   "source": [
    "myscore(y_,y_p_per)"
   ]
  },
  {
   "cell_type": "code",
   "execution_count": null,
   "metadata": {},
   "outputs": [],
   "source": []
  }
 ],
 "metadata": {
  "kernelspec": {
   "display_name": "Python 3",
   "language": "python",
   "name": "python3"
  },
  "language_info": {
   "codemirror_mode": {
    "name": "ipython",
    "version": 3
   },
   "file_extension": ".py",
   "mimetype": "text/x-python",
   "name": "python",
   "nbconvert_exporter": "python",
   "pygments_lexer": "ipython3",
   "version": "3.7.3"
  }
 },
 "nbformat": 4,
 "nbformat_minor": 4
}
